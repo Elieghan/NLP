{
 "cells": [
  {
   "cell_type": "markdown",
   "id": "a0801399",
   "metadata": {},
   "source": [
    "# Junior Data Scientist position - Interview Assignment"
   ]
  },
  {
   "cell_type": "markdown",
   "id": "165348ba",
   "metadata": {},
   "source": [
    "One of SeaLights product offerings is called \"Risk Mitigation\", where SeaLights helps dev. teams to identify risky code areas and close them by adding tests. \n",
    "\n",
    "The task here is to introduce a new risk type of \"Testing Standards\", in which the tests for an added/modified piece code is compared against SIMILAR pieces of code and how they are tested. \n",
    "\n",
    "In order to drive this feature, we first need to be able to tell for each code element (methods/functions, to limit the scope), which other code elements are similar to it."
   ]
  },
  {
   "cell_type": "markdown",
   "id": "17055e3c",
   "metadata": {},
   "source": [
    "In this notebook, we will try to  implement a code similarity function, where we find similar methods given an input method."
   ]
  },
  {
   "cell_type": "markdown",
   "id": "dd06b989",
   "metadata": {},
   "source": [
    "First, we install all we need for this task:"
   ]
  },
  {
   "cell_type": "code",
   "execution_count": 1,
   "id": "6eb4ca6f",
   "metadata": {},
   "outputs": [],
   "source": [
    "import pandas as pd\n",
    "import numpy as np\n",
    "import matplotlib.pyplot as plt\n",
    "import re\n",
    "from sklearn.feature_extraction.text import CountVectorizer, TfidfVectorizer"
   ]
  },
  {
   "cell_type": "markdown",
   "id": "c6c26627",
   "metadata": {},
   "source": [
    "### EDA ###"
   ]
  },
  {
   "cell_type": "code",
   "execution_count": 2,
   "id": "ddef4ed2",
   "metadata": {
    "scrolled": true
   },
   "outputs": [
    {
     "data": {
      "text/html": [
       "<div>\n",
       "<style scoped>\n",
       "    .dataframe tbody tr th:only-of-type {\n",
       "        vertical-align: middle;\n",
       "    }\n",
       "\n",
       "    .dataframe tbody tr th {\n",
       "        vertical-align: top;\n",
       "    }\n",
       "\n",
       "    .dataframe thead th {\n",
       "        text-align: right;\n",
       "    }\n",
       "</style>\n",
       "<table border=\"1\" class=\"dataframe\">\n",
       "  <thead>\n",
       "    <tr style=\"text-align: right;\">\n",
       "      <th></th>\n",
       "      <th>id</th>\n",
       "      <th>customer_bsid</th>\n",
       "      <th>file_id</th>\n",
       "      <th>app_bsid</th>\n",
       "      <th>element_key</th>\n",
       "      <th>revision</th>\n",
       "      <th>name</th>\n",
       "      <th>status</th>\n",
       "      <th>type</th>\n",
       "      <th>start_position</th>\n",
       "      <th>end_position</th>\n",
       "      <th>coverage</th>\n",
       "      <th>code_labels</th>\n",
       "      <th>ignore</th>\n",
       "      <th>constructor</th>\n",
       "      <th>getter_setter</th>\n",
       "      <th>anonymous</th>\n",
       "      <th>generated</th>\n",
       "      <th>deprecated</th>\n",
       "      <th>ref_status</th>\n",
       "    </tr>\n",
       "  </thead>\n",
       "  <tbody>\n",
       "    <tr>\n",
       "      <th>0</th>\n",
       "      <td>1_0</td>\n",
       "      <td>SeaLights_7208babf-80af-460a-9df8-fe5866901313</td>\n",
       "      <td>1_0</td>\n",
       "      <td>7208babf-80af-460a-9df8-fe5866901313</td>\n",
       "      <td>a0c3c202-8a36-4b7e-b910-63c78f566b4a</td>\n",
       "      <td>0</td>\n",
       "      <td>public String getFileHeader()</td>\n",
       "      <td>unchanged</td>\n",
       "      <td>method</td>\n",
       "      <td>{17,null}</td>\n",
       "      <td>{17,null}</td>\n",
       "      <td>NaN</td>\n",
       "      <td>[{'category':'Team','label':'Agents','isHighPr...</td>\n",
       "      <td>{'testStages':[],'isIgnored':false}</td>\n",
       "      <td>False</td>\n",
       "      <td>False</td>\n",
       "      <td>False</td>\n",
       "      <td>False</td>\n",
       "      <td>False</td>\n",
       "      <td>unchanged</td>\n",
       "    </tr>\n",
       "    <tr>\n",
       "      <th>1</th>\n",
       "      <td>1_1</td>\n",
       "      <td>SeaLights_7208babf-80af-460a-9df8-fe5866901313</td>\n",
       "      <td>1_1</td>\n",
       "      <td>7208babf-80af-460a-9df8-fe5866901313</td>\n",
       "      <td>29e72cb4-f9ad-433c-82ac-a1d1ac6bbee2</td>\n",
       "      <td>3</td>\n",
       "      <td>boolean timerExists()</td>\n",
       "      <td>unchanged</td>\n",
       "      <td>method</td>\n",
       "      <td>{202,null}</td>\n",
       "      <td>{202,null}</td>\n",
       "      <td>NaN</td>\n",
       "      <td>[{'category':'Team','label':'Agents','isHighPr...</td>\n",
       "      <td>{'testStages':[],'isIgnored':false}</td>\n",
       "      <td>False</td>\n",
       "      <td>False</td>\n",
       "      <td>False</td>\n",
       "      <td>False</td>\n",
       "      <td>False</td>\n",
       "      <td>unchanged</td>\n",
       "    </tr>\n",
       "    <tr>\n",
       "      <th>2</th>\n",
       "      <td>1_2</td>\n",
       "      <td>SeaLights_7208babf-80af-460a-9df8-fe5866901313</td>\n",
       "      <td>1_1</td>\n",
       "      <td>7208babf-80af-460a-9df8-fe5866901313</td>\n",
       "      <td>bc8ed3bb-3cd6-4694-aa89-f06d18a82804</td>\n",
       "      <td>1</td>\n",
       "      <td>TaskScheduler getTimer()</td>\n",
       "      <td>unchanged</td>\n",
       "      <td>method</td>\n",
       "      <td>{206,null}</td>\n",
       "      <td>{209,null}</td>\n",
       "      <td>NaN</td>\n",
       "      <td>[{'category':'Team','label':'Agents','isHighPr...</td>\n",
       "      <td>{'testStages':[],'isIgnored':false}</td>\n",
       "      <td>False</td>\n",
       "      <td>False</td>\n",
       "      <td>False</td>\n",
       "      <td>False</td>\n",
       "      <td>False</td>\n",
       "      <td>unchanged</td>\n",
       "    </tr>\n",
       "  </tbody>\n",
       "</table>\n",
       "</div>"
      ],
      "text/plain": [
       "    id                                   customer_bsid file_id  \\\n",
       "0  1_0  SeaLights_7208babf-80af-460a-9df8-fe5866901313     1_0   \n",
       "1  1_1  SeaLights_7208babf-80af-460a-9df8-fe5866901313     1_1   \n",
       "2  1_2  SeaLights_7208babf-80af-460a-9df8-fe5866901313     1_1   \n",
       "\n",
       "                               app_bsid                           element_key  \\\n",
       "0  7208babf-80af-460a-9df8-fe5866901313  a0c3c202-8a36-4b7e-b910-63c78f566b4a   \n",
       "1  7208babf-80af-460a-9df8-fe5866901313  29e72cb4-f9ad-433c-82ac-a1d1ac6bbee2   \n",
       "2  7208babf-80af-460a-9df8-fe5866901313  bc8ed3bb-3cd6-4694-aa89-f06d18a82804   \n",
       "\n",
       "   revision                           name     status    type start_position  \\\n",
       "0         0  public String getFileHeader()  unchanged  method      {17,null}   \n",
       "1         3          boolean timerExists()  unchanged  method     {202,null}   \n",
       "2         1       TaskScheduler getTimer()  unchanged  method     {206,null}   \n",
       "\n",
       "  end_position  coverage                                        code_labels  \\\n",
       "0    {17,null}       NaN  [{'category':'Team','label':'Agents','isHighPr...   \n",
       "1   {202,null}       NaN  [{'category':'Team','label':'Agents','isHighPr...   \n",
       "2   {209,null}       NaN  [{'category':'Team','label':'Agents','isHighPr...   \n",
       "\n",
       "                                ignore  constructor  getter_setter  anonymous  \\\n",
       "0  {'testStages':[],'isIgnored':false}        False          False      False   \n",
       "1  {'testStages':[],'isIgnored':false}        False          False      False   \n",
       "2  {'testStages':[],'isIgnored':false}        False          False      False   \n",
       "\n",
       "   generated  deprecated ref_status  \n",
       "0      False       False  unchanged  \n",
       "1      False       False  unchanged  \n",
       "2      False       False  unchanged  "
      ]
     },
     "execution_count": 2,
     "metadata": {},
     "output_type": "execute_result"
    }
   ],
   "source": [
    "df = pd.read_csv(\"data.csv\")\n",
    "df.head(3)"
   ]
  },
  {
   "cell_type": "markdown",
   "id": "085cb1ac",
   "metadata": {},
   "source": [
    "We do a little EDA for the DataFrame:"
   ]
  },
  {
   "cell_type": "code",
   "execution_count": 3,
   "id": "0df6e00d",
   "metadata": {},
   "outputs": [],
   "source": [
    "def find_shape(dataframe):\n",
    "    print('Rows:', dataframe.shape[0])\n",
    "    print('Columns:', dataframe.shape[1])\n",
    "    \n",
    "def check_missing(dataframe):\n",
    "    if len(dataframe.columns[dataframe.isnull().any()]) == 0:\n",
    "        print('There are no missing values.')\n",
    "    else:\n",
    "        print('Column Name', ' ', 'Number of Missing Values', ' ', 'Percentage of Total')\n",
    "        for index, value in dataframe.isnull().sum().items():\n",
    "            if value>0:\n",
    "                print(index, ' '*(23-len(index)), value, ' '*(18-len(str(value))),'  ', \n",
    "                      round(value*100/len(dataframe), 2), \"%\")"
   ]
  },
  {
   "cell_type": "code",
   "execution_count": 4,
   "id": "2cb33039",
   "metadata": {},
   "outputs": [
    {
     "name": "stdout",
     "output_type": "stream",
     "text": [
      "Rows: 5254\n",
      "Columns: 20\n"
     ]
    }
   ],
   "source": [
    "find_shape(df)"
   ]
  },
  {
   "cell_type": "markdown",
   "id": "763589ba",
   "metadata": {},
   "source": [
    "Let check if there are some missing values:"
   ]
  },
  {
   "cell_type": "code",
   "execution_count": 5,
   "id": "07cd8215",
   "metadata": {},
   "outputs": [
    {
     "name": "stdout",
     "output_type": "stream",
     "text": [
      "Column Name   Number of Missing Values   Percentage of Total\n",
      "coverage                 5254                   100.0 %\n"
     ]
    }
   ],
   "source": [
    "check_missing(df)"
   ]
  },
  {
   "cell_type": "markdown",
   "id": "deaa6e65",
   "metadata": {},
   "source": [
    "The `coverage` column has no value but only the `name` and `status` columns are of interest."
   ]
  },
  {
   "cell_type": "code",
   "execution_count": 6,
   "id": "d0fcf2c0",
   "metadata": {},
   "outputs": [
    {
     "name": "stdout",
     "output_type": "stream",
     "text": [
      "<class 'pandas.core.frame.DataFrame'>\n",
      "RangeIndex: 5254 entries, 0 to 5253\n",
      "Data columns (total 20 columns):\n",
      " #   Column          Non-Null Count  Dtype  \n",
      "---  ------          --------------  -----  \n",
      " 0   id              5254 non-null   object \n",
      " 1   customer_bsid   5254 non-null   object \n",
      " 2   file_id         5254 non-null   object \n",
      " 3   app_bsid        5254 non-null   object \n",
      " 4   element_key     5254 non-null   object \n",
      " 5   revision        5254 non-null   int64  \n",
      " 6   name            5254 non-null   object \n",
      " 7   status          5254 non-null   object \n",
      " 8   type            5254 non-null   object \n",
      " 9   start_position  5254 non-null   object \n",
      " 10  end_position    5254 non-null   object \n",
      " 11  coverage        0 non-null      float64\n",
      " 12  code_labels     5254 non-null   object \n",
      " 13  ignore          5254 non-null   object \n",
      " 14  constructor     5254 non-null   bool   \n",
      " 15  getter_setter   5254 non-null   bool   \n",
      " 16  anonymous       5254 non-null   bool   \n",
      " 17  generated       5254 non-null   bool   \n",
      " 18  deprecated      5254 non-null   bool   \n",
      " 19  ref_status      5254 non-null   object \n",
      "dtypes: bool(5), float64(1), int64(1), object(13)\n",
      "memory usage: 641.5+ KB\n"
     ]
    }
   ],
   "source": [
    "df.info()"
   ]
  },
  {
   "cell_type": "markdown",
   "id": "b5b5e473",
   "metadata": {},
   "source": [
    "The columns which are relevant for us are 'name' and 'status':"
   ]
  },
  {
   "cell_type": "code",
   "execution_count": 7,
   "id": "d1918c99",
   "metadata": {},
   "outputs": [],
   "source": [
    "df = df[['name','status']]"
   ]
  },
  {
   "cell_type": "markdown",
   "id": "cc707291",
   "metadata": {},
   "source": [
    "The different values for `status`:"
   ]
  },
  {
   "cell_type": "code",
   "execution_count": 8,
   "id": "5e890a9c",
   "metadata": {},
   "outputs": [
    {
     "data": {
      "text/plain": [
       "unchanged    5080\n",
       "moved         140\n",
       "modified       30\n",
       "added           4\n",
       "Name: status, dtype: int64"
      ]
     },
     "execution_count": 8,
     "metadata": {},
     "output_type": "execute_result"
    }
   ],
   "source": [
    "df.status.value_counts()"
   ]
  },
  {
   "cell_type": "markdown",
   "id": "4ae4575f",
   "metadata": {},
   "source": [
    "### Transformation of the data ###"
   ]
  },
  {
   "cell_type": "code",
   "execution_count": 9,
   "id": "4de6c548",
   "metadata": {},
   "outputs": [],
   "source": [
    "data = df[(df['status'] == 'unchanged') | (df['status'] == 'moved')].reset_index().drop(columns=['index', 'status'])"
   ]
  },
  {
   "cell_type": "code",
   "execution_count": 10,
   "id": "3fdcff75",
   "metadata": {},
   "outputs": [],
   "source": [
    "df_new = df[(df['status'] == 'modified') | (df['status'] == 'added')].reset_index().drop(columns=['index', 'status'])"
   ]
  },
  {
   "cell_type": "code",
   "execution_count": 11,
   "id": "a229e090",
   "metadata": {},
   "outputs": [
    {
     "name": "stdout",
     "output_type": "stream",
     "text": [
      "Shape of data: (5220, 1)\n",
      "Shape of df_new: (34, 1)\n"
     ]
    }
   ],
   "source": [
    "print('Shape of data:', data.shape)\n",
    "print('Shape of df_new:', df_new.shape)"
   ]
  },
  {
   "cell_type": "markdown",
   "id": "7acb8e1e",
   "metadata": {},
   "source": [
    "Now we will change the column `name` in order to have better results with the model:"
   ]
  },
  {
   "cell_type": "code",
   "execution_count": 12,
   "id": "b22bdb03",
   "metadata": {},
   "outputs": [],
   "source": [
    "data['method'] = data['name']\n",
    "data['name'] = data['name'].apply(lambda x: x.replace('(', ' ').replace(')', ' ').replace(',', ' '))\n",
    "data['name'] = data['name'].apply(lambda x: re.sub(r\"(\\w)([A-Z])\", r\"\\1 \\2\", x))"
   ]
  },
  {
   "cell_type": "code",
   "execution_count": 13,
   "id": "c9525b91",
   "metadata": {},
   "outputs": [
    {
     "data": {
      "text/html": [
       "<div>\n",
       "<style scoped>\n",
       "    .dataframe tbody tr th:only-of-type {\n",
       "        vertical-align: middle;\n",
       "    }\n",
       "\n",
       "    .dataframe tbody tr th {\n",
       "        vertical-align: top;\n",
       "    }\n",
       "\n",
       "    .dataframe thead th {\n",
       "        text-align: right;\n",
       "    }\n",
       "</style>\n",
       "<table border=\"1\" class=\"dataframe\">\n",
       "  <thead>\n",
       "    <tr style=\"text-align: right;\">\n",
       "      <th></th>\n",
       "      <th>name</th>\n",
       "      <th>method</th>\n",
       "    </tr>\n",
       "  </thead>\n",
       "  <tbody>\n",
       "    <tr>\n",
       "      <th>2627</th>\n",
       "      <td>public void visit Int Insn int  int</td>\n",
       "      <td>public void visitIntInsn(int, int)</td>\n",
       "    </tr>\n",
       "    <tr>\n",
       "      <th>822</th>\n",
       "      <td>public void execute Integer</td>\n",
       "      <td>public void execute(Integer)</td>\n",
       "    </tr>\n",
       "    <tr>\n",
       "      <th>4440</th>\n",
       "      <td>public void visit Insn int</td>\n",
       "      <td>public void visitInsn(int)</td>\n",
       "    </tr>\n",
       "    <tr>\n",
       "      <th>109</th>\n",
       "      <td>protected boolean is Archive String</td>\n",
       "      <td>protected boolean isArchive(String)</td>\n",
       "    </tr>\n",
       "    <tr>\n",
       "      <th>3580</th>\n",
       "      <td>public static String build Name For Code Cover...</td>\n",
       "      <td>public static String buildNameForCodeCoverage(...</td>\n",
       "    </tr>\n",
       "  </tbody>\n",
       "</table>\n",
       "</div>"
      ],
      "text/plain": [
       "                                                   name  \\\n",
       "2627               public void visit Int Insn int  int    \n",
       "822                        public void execute Integer    \n",
       "4440                        public void visit Insn int    \n",
       "109                protected boolean is Archive String    \n",
       "3580  public static String build Name For Code Cover...   \n",
       "\n",
       "                                                 method  \n",
       "2627                 public void visitIntInsn(int, int)  \n",
       "822                        public void execute(Integer)  \n",
       "4440                         public void visitInsn(int)  \n",
       "109                 protected boolean isArchive(String)  \n",
       "3580  public static String buildNameForCodeCoverage(...  "
      ]
     },
     "execution_count": 13,
     "metadata": {},
     "output_type": "execute_result"
    }
   ],
   "source": [
    "data.sample(5)"
   ]
  },
  {
   "cell_type": "markdown",
   "id": "607eb6e7",
   "metadata": {},
   "source": [
    "### Saving the data ###"
   ]
  },
  {
   "cell_type": "code",
   "execution_count": 14,
   "id": "defced50",
   "metadata": {},
   "outputs": [],
   "source": [
    "dl = data[['name','method']]"
   ]
  },
  {
   "cell_type": "code",
   "execution_count": 15,
   "id": "f0a59a1b",
   "metadata": {},
   "outputs": [],
   "source": [
    "dl.to_csv('data_method.csv')"
   ]
  },
  {
   "cell_type": "markdown",
   "id": "a602e5d7",
   "metadata": {},
   "source": [
    "### Analyzing the words in the data ###"
   ]
  },
  {
   "cell_type": "code",
   "execution_count": 16,
   "id": "1b33b3a4",
   "metadata": {},
   "outputs": [],
   "source": [
    "lens_char = dl['name'].apply(lambda s: len(s))\n",
    "lens_word = dl['name'].apply(lambda s: len(s.split()))"
   ]
  },
  {
   "cell_type": "code",
   "execution_count": 17,
   "id": "843644ea",
   "metadata": {},
   "outputs": [
    {
     "data": {
      "text/plain": [
       "<AxesSubplot:ylabel='Frequency'>"
      ]
     },
     "execution_count": 17,
     "metadata": {},
     "output_type": "execute_result"
    },
    {
     "data": {
      "image/png": "[encoded data removed]",
      "text/plain": [
       "<Figure size 432x288 with 1 Axes>"
      ]
     },
     "metadata": {
      "needs_background": "light"
     },
     "output_type": "display_data"
    }
   ],
   "source": [
    "lens_char.plot(kind='hist',bins=10)"
   ]
  },
  {
   "cell_type": "code",
   "execution_count": 18,
   "id": "6187b1ac",
   "metadata": {},
   "outputs": [
    {
     "data": {
      "text/plain": [
       "<AxesSubplot:ylabel='Frequency'>"
      ]
     },
     "execution_count": 18,
     "metadata": {},
     "output_type": "execute_result"
    },
    {
     "data": {
      "image/png": "[encoded data removed]",
      "text/plain": [
       "<Figure size 432x288 with 1 Axes>"
      ]
     },
     "metadata": {
      "needs_background": "light"
     },
     "output_type": "display_data"
    }
   ],
   "source": [
    "lens_word.plot(kind='hist',bins=10)"
   ]
  },
  {
   "cell_type": "code",
   "execution_count": null,
   "id": "baaf1c48",
   "metadata": {},
   "outputs": [],
   "source": []
  }
 ],
 "metadata": {
  "kernelspec": {
   "display_name": "Python 3",
   "language": "python",
   "name": "python3"
  },
  "language_info": {
   "codemirror_mode": {
    "name": "ipython",
    "version": 3
   },
   "file_extension": ".py",
   "mimetype": "text/x-python",
   "name": "python",
   "nbconvert_exporter": "python",
   "pygments_lexer": "ipython3",
   "version": "3.8.3"
  }
 },
 "nbformat": 4,
 "nbformat_minor": 5
}
